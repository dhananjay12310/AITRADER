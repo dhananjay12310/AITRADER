{
  "nbformat": 4,
  "nbformat_minor": 0,
  "metadata": {
    "colab": {
      "name": "aitrader.ipynb",
      "provenance": [],
      "collapsed_sections": [],
      "authorship_tag": "ABX9TyNgpchj5Y1T/js2P2AzehoP"
    },
    "kernelspec": {
      "name": "python373jvsc74a57bd0b2bbca7b25589987bc69e95430193d6372f81759d34e6ca1eac7aad3047d77e5",
      "display_name": "Python 3.7.3 64-bit ('hp': virtualenv)"
    }
  },
  "cells": [
    {
      "cell_type": "code",
      "metadata": {
        "id": "KGrUtWLYPXfm",
        "colab_type": "code",
        "colab": {}
      },
      "source": [
        "# git learning\n",
        "import pandas as pd\n",
        "import numpy as np\n",
        "from sklearn.linear_model import LinearRegression\n",
        "from yahoofinancials import YahooFinancials\n",
        "import mpl_finance\n",
        "import matplotlib.pyplot as plt\n",
        "\n",
        "stock=input(\"stock name ?\")\n",
        "highs=[]\n",
        "lows=[]\n",
        "opens=[]\n",
        "closes=[]\n",
        "\n",
        "yahoo_financials= YahooFinancials(str(stock))\n",
        "stats= (yahoo_financials.get_historical_price_data(\"2010-1-10\" ,\"2019-1-10\" ,\"daily\"))\n",
        "\n",
        "i=0\n",
        "for date in stats[str(stock)][\"prices\"]:\n",
        "  if i==0:\n",
        "    i += 1\n",
        "    continue\n",
        "\n",
        "  highs.append(date[\"high\"])\n",
        "  lows.append(date[\"low\"])\n",
        "  opens.append(date[\"open\"])\n",
        "  closes.append(date[\"close\"])\n",
        "  i += 1\n",
        "\n",
        "print(\"no. of data pts:\",i)\n",
        "\n",
        "total=[]\n",
        "totalopens=[]\n",
        "for j in range(4):\n",
        "  opens.append(0)\n",
        "\n",
        "for i in range(i-1):\n",
        "  total.append=([opens[i], lows[i], highs[i], closes[i]])\n",
        "\n",
        "def predictor(lst,months):\n",
        "  total_training = lst[0:i-months]\n",
        "  total_validation = lst[0:i-months]\n",
        "\n",
        "  df = pd.DataFrame(total_validation, dtype=float)\n",
        "  Xvalidation = dfp.iloc[:, :-1]\n",
        "  Yvalidation = dfp.iloc[:, :-1]\n",
        "\n",
        "  clf = LinerRegression\n",
        "  clf.fit(XTrain , YTrain)\n",
        "\n",
        "  print(\"\\n\\n\")\n",
        "\n",
        "  dfp = pd.DataFrame(total_validation, dtype=float)\n",
        "  Xvalidation = dfp.iloc[:, :-1]\n",
        "  Yvalidation = dfp.iloc[:, :-1]\n",
        "\n",
        "  print(\"\\n\\n prediction\")\n",
        "  YPrediction = clf.predict(Xvalidation)\n",
        "\n",
        "  print(\"\\n original\")\n",
        "  print(Yvalidation)\n",
        "\n",
        "  print(\"\\n predicted\")\n",
        "  print(YPrediction)\n",
        "\n",
        "predictor(total,1)"
      ],
      "execution_count": 1,
      "outputs": [
        {
          "output_type": "error",
          "ename": "ModuleNotFoundError",
          "evalue": "No module named 'mpl_finance'",
          "traceback": [
            "\u001b[1;31m---------------------------------------------------------------------------\u001b[0m",
            "\u001b[1;31mModuleNotFoundError\u001b[0m                       Traceback (most recent call last)",
            "\u001b[1;32m<ipython-input-1-aad4c7bc2acc>\u001b[0m in \u001b[0;36m<module>\u001b[1;34m\u001b[0m\n\u001b[0;32m      4\u001b[0m \u001b[1;32mfrom\u001b[0m \u001b[0msklearn\u001b[0m\u001b[1;33m.\u001b[0m\u001b[0mlinear_model\u001b[0m \u001b[1;32mimport\u001b[0m \u001b[0mLinearRegression\u001b[0m\u001b[1;33m\u001b[0m\u001b[1;33m\u001b[0m\u001b[0m\n\u001b[0;32m      5\u001b[0m \u001b[1;32mfrom\u001b[0m \u001b[0myahoofinancials\u001b[0m \u001b[1;32mimport\u001b[0m \u001b[0mYahooFinancials\u001b[0m\u001b[1;33m\u001b[0m\u001b[1;33m\u001b[0m\u001b[0m\n\u001b[1;32m----> 6\u001b[1;33m \u001b[1;32mimport\u001b[0m \u001b[0mmpl_finance\u001b[0m\u001b[1;33m\u001b[0m\u001b[1;33m\u001b[0m\u001b[0m\n\u001b[0m\u001b[0;32m      7\u001b[0m \u001b[1;32mimport\u001b[0m \u001b[0mmatplotlib\u001b[0m\u001b[1;33m.\u001b[0m\u001b[0mpyplot\u001b[0m \u001b[1;32mas\u001b[0m \u001b[0mplt\u001b[0m\u001b[1;33m\u001b[0m\u001b[1;33m\u001b[0m\u001b[0m\n\u001b[0;32m      8\u001b[0m \u001b[1;33m\u001b[0m\u001b[0m\n",
            "\u001b[1;31mModuleNotFoundError\u001b[0m: No module named 'mpl_finance'"
          ]
        }
      ]
    },
    {
      "cell_type": "code",
      "execution_count": null,
      "metadata": {},
      "outputs": [],
      "source": []
    }
  ]
}